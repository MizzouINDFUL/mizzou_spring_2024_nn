{
 "cells": [
  {
   "cell_type": "markdown",
   "metadata": {},
   "source": [
    "# Where can I go to learn more???\n",
    "## (Specifically, as it relates to \"state-of-the-art\")\n",
    "\n",
    "Here are a FEW (this is NOT a full list!) journals and conferences for CI. I will give you more as we go when/where it makes sense (vs overloading you today).\n",
    "\n",
    "IEEE CIS website: https://cis.ieee.org/\n",
    "\n",
    "### In General\n",
    "Journals\n",
    "* IEEE Transactions on Artificial Intelligence (new journal!)\n",
    " * https://cis.ieee.org/publications/ieee-transactions-on-artificial-intelligence\n",
    "* IEEE Transactions on Emerging Topics in Computational Intelligence (new journal!)\n",
    " * https://ieeexplore.ieee.org/xpl/RecentIssue.jsp?punumber=7433297\n",
    "* IEEE SMC (Systems, Man, and Cybernetics)\n",
    " * http://www.ieeesmc.org\n",
    "\n",
    "### Neural Networks\n",
    "Journals \n",
    "* IEEE Transactions on Neural Networks and Learning Systems\n",
    " * https://ieeexplore.ieee.org/xpl/RecentIssue.jsp?punumber=5962385\n",
    "* Neural Networks                            \n",
    " * https://www.journals.elsevier.com/neural-networks\n",
    "Conferences\n",
    "* IJCNN\n",
    " * https://www.ijcnn.org\n",
    "* NIPS\n",
    " * https://nips.cc\n",
    "\n",
    "### Fuzzy Sets\n",
    "Journals\n",
    "* IEEE Transactions on Fuzzy Systems\n",
    " * https://ieeexplore.ieee.org/xpl/RecentIssue.jsp?punumber=91\n",
    "* Fuzzy Sets and Systems\n",
    " * https://www.journals.elsevier.com/fuzzy-sets-and-systems\n",
    "Conferences\n",
    "* FUZZ-IEEE\n",
    " * https://attend.ieee.org/fuzzieee-2019/\n",
    "* SSCI\n",
    " * http://ssci2019.org/\n",
    "* NAFIPS\n",
    " * http://nafips.ece.ualberta.ca/\n",
    "* IFSA\n",
    " * http://fuzzysystems.org/\n",
    "\n",
    "### Evolutionary Computation\n",
    "Journals\n",
    "* IEEE Transactions on Evolutionary Computation\n",
    " * https://ieeexplore.ieee.org/xpl/RecentIssue.jsp?punumber=4235\n",
    "Conferences\n",
    "* CEC\n",
    " * http://cec2019.org/\n",
    "* GECCO\n",
    " * https://gecco-2019.sigevo.org/index.html/HomePage"
   ]
  }
 ],
 "metadata": {
  "kernelspec": {
   "display_name": "Python 3",
   "language": "python",
   "name": "python3"
  },
  "language_info": {
   "codemirror_mode": {
    "name": "ipython",
    "version": 3
   },
   "file_extension": ".py",
   "mimetype": "text/x-python",
   "name": "python",
   "nbconvert_exporter": "python",
   "pygments_lexer": "ipython3",
   "version": "3.8.8"
  }
 },
 "nbformat": 4,
 "nbformat_minor": 4
}
