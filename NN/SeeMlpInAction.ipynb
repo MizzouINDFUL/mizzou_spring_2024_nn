{
 "cells": [
  {
   "cell_type": "markdown",
   "metadata": {},
   "source": [
    "# Seeing a MLP in Action\n",
    "\n",
    "Go to the following <a href=\"http://playground.tensorflow.org/#activation=tanh&batchSize=10&dataset=circle&regDataset=reg-plane&learningRate=0.03&regularizationRate=0&noise=0&networkShape=4,2&seed=0.86675&showTestData=false&discretize=false&percTrainData=50&x=true&y=true&xTimesY=false&xSquared=false&ySquared=false&cosX=false&sinX=false&cosY=false&sinY=false&collectStats=false&problem=classification&initZero=false&hideText=false\">link</a>\n",
    "\n",
    "<img src=\"https://miro.medium.com/max/1400/0*1DqTRU7WREONm9oa.png\" width=\"60%\">\n",
    "\n",
    "# Q&A \n",
    "\n",
    "  1. Choose just x1 and x2 (i.e., just use feature 1 and feature 2) and 0 hidden layers and see what you can solve\n",
    "    * Note, you run it via the play button, can tinker with parameters, nonlinearity, etc.\n",
    "  2. Now, try to add input x1 times x2  \n",
    "   $\\textbf{x}=\\begin{bmatrix}\n",
    "           x_{1} \\\\\n",
    "           x_{2} \\\\\n",
    "           x_{1} x_{2}\n",
    "         \\end{bmatrix}$\n",
    "  3. Now, pick just x1 and x2 and one hidden layer with one neuron, two neurons, etc.\n",
    "  4. Pick the spiral pattern, can you solve it ... \n",
    "  5. Keep having fun!\n",
    "  6. On Canvas, post the best simplest solution you got (and see which of you win :-)"
   ]
  }
 ],
 "metadata": {
  "kernelspec": {
   "display_name": "Python 3",
   "language": "python",
   "name": "python3"
  },
  "language_info": {
   "codemirror_mode": {
    "name": "ipython",
    "version": 3
   },
   "file_extension": ".py",
   "mimetype": "text/x-python",
   "name": "python",
   "nbconvert_exporter": "python",
   "pygments_lexer": "ipython3",
   "version": "3.8.8"
  }
 },
 "nbformat": 4,
 "nbformat_minor": 4
}
