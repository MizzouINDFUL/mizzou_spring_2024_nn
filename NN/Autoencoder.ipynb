{
 "cells": [
  {
   "cell_type": "code",
   "execution_count": 1,
   "metadata": {},
   "outputs": [],
   "source": [
    "%matplotlib inline"
   ]
  },
  {
   "cell_type": "markdown",
   "metadata": {},
   "source": [
    "# Vanilla Autoencoder\n",
    "\n",
    "<img src=\"https://miro.medium.com/max/3148/1*44eDEuZBEsmG_TCAKRI3Kw@2x.png\">\n",
    "\n",
    "In class I will cover the math that powers autoencoders\n",
    "\n",
    "In this Jupyter workbook page I am focusing on code to help you better understand them\n",
    "\n",
    "Go grab you some MNIST data\n",
    "\n",
    "http://yann.lecun.com/exdb/mnist/\n",
    "\n",
    "Or you can grab it in a different format that is a little more Python friendly\n",
    "\n",
    "https://www.python-course.eu/neural_network_mnist.php\n",
    "\n",
    "First, lets load in that data"
   ]
  },
  {
   "cell_type": "code",
   "execution_count": 2,
   "metadata": {},
   "outputs": [
    {
     "name": "stdout",
     "output_type": "stream",
     "text": [
      "Image has this many pixels: 784\n",
      "(Number of data points, dim)\n",
      "(60000, 785)\n"
     ]
    }
   ],
   "source": [
    "import torch\n",
    "from torch.autograd import Variable\n",
    "from torch.autograd import Function\n",
    "import torch.nn as nn\n",
    "import torch.nn.functional as F\n",
    "import numpy as np\n",
    "import torch.optim as optim\n",
    "import matplotlib\n",
    "import matplotlib.pyplot as plt\n",
    "from tqdm import tqdm\n",
    "\n",
    "###########################################\n",
    "###########################################\n",
    "# load us some MNIST data\n",
    "###########################################\n",
    "###########################################\n",
    "\n",
    "image_size = 28 # width and length\n",
    "no_of_different_labels = 10 #  i.e. 0, 1, 2, 3, ..., 9\n",
    "image_pixels = image_size * image_size\n",
    "print(\"Image has this many pixels: \" + str(image_pixels))\n",
    "data_path = \"Data/\"\n",
    "train_data = np.loadtxt(data_path + \"mnist_train.csv\", delimiter=\",\")\n",
    "print(\"(Number of data points, dim)\")\n",
    "print(train_data.shape)"
   ]
  },
  {
   "cell_type": "markdown",
   "metadata": {},
   "source": [
    "Draw one of those characters"
   ]
  },
  {
   "cell_type": "code",
   "execution_count": 3,
   "metadata": {},
   "outputs": [
    {
     "name": "stdout",
     "output_type": "stream",
     "text": [
      "Digit is 7.0\n"
     ]
    },
    {
     "data": {
      "image/png": "[encoded data removed]",
      "text/plain": [
       "<Figure size 432x288 with 1 Axes>"
      ]
     },
     "metadata": {
      "needs_background": "light"
     },
     "output_type": "display_data"
    }
   ],
   "source": [
    "Index = 750\n",
    "DigitLabel = train_data[Index,0] # grab that label\n",
    "print(\"Digit is \" + str(DigitLabel))\n",
    "Digit = train_data[Index,1::].reshape((28,28)) # knock off that label\n",
    "plt.imshow(Digit, cmap=\"Greys\")\n",
    "plt.show()"
   ]
  },
  {
   "cell_type": "markdown",
   "metadata": {},
   "source": [
    "Make a small set of data to work with below\n",
    "\n",
    "Also, lets reduce the size of our digit imagery"
   ]
  },
  {
   "cell_type": "code",
   "execution_count": 4,
   "metadata": {},
   "outputs": [
    {
     "name": "stdout",
     "output_type": "stream",
     "text": [
      "(200, 784)\n",
      "200\n",
      "(784,)\n"
     ]
    },
    {
     "data": {
      "image/png": "[encoded data removed]",
      "text/plain": [
       "<Figure size 432x288 with 1 Axes>"
      ]
     },
     "metadata": {
      "needs_background": "light"
     },
     "output_type": "display_data"
    },
    {
     "name": "stdout",
     "output_type": "stream",
     "text": [
      "(196,)\n"
     ]
    },
    {
     "data": {
      "image/png": "[encoded data removed]",
      "text/plain": [
       "<Figure size 432x288 with 1 Axes>"
      ]
     },
     "metadata": {
      "needs_background": "light"
     },
     "output_type": "display_data"
    }
   ],
   "source": [
    "data = train_data[0:200,1::] # pull out first 200 images\n",
    "N = data.shape[0] # how many are there? (just checking!)\n",
    "print( data.shape )\n",
    "print( N )\n",
    "\n",
    "# draw it\n",
    "Index = 0\n",
    "print( data[Index,:].shape )\n",
    "D = data[Index,:].reshape((28,28))\n",
    "plt.imshow(D, cmap=\"Greys\")\n",
    "plt.show()\n",
    "# make it 1/2 size in width and 1/2 in height (so 1/4th of total size)\n",
    "D = D[0::2,0::2]\n",
    "print( D.reshape((14*14)).shape )\n",
    "plt.imshow(D, cmap=\"Greys\")\n",
    "plt.show()"
   ]
  },
  {
   "cell_type": "markdown",
   "metadata": {},
   "source": [
    "Lets get that autoencoder running"
   ]
  },
  {
   "cell_type": "code",
   "execution_count": 5,
   "metadata": {},
   "outputs": [],
   "source": [
    "###########################################\n",
    "###########################################\n",
    "# declare a simple autoencoder\n",
    "###########################################\n",
    "###########################################\n",
    "\n",
    "class AutoEncoder(nn.Module):\n",
    "    \n",
    "    def __init__(self, D_in, H, D_out):\n",
    "        super(AutoEncoder, self).__init__()        \n",
    "        self.encoder = nn.Sequential(\n",
    "            nn.Linear(D_in, H), # out image mapped to H neurons (our 'code')\n",
    "            nn.ReLU(),\n",
    "#           nn.Sigmoid(),   # you guys can use whatever nonlinearity you want         \n",
    "        )\n",
    "        self.decoder = nn.Sequential(\n",
    "            nn.Linear(H, D_out), # blow that code back out to our full image size\n",
    "            nn.ReLU(),\n",
    "#           nn.Sigmoid(),            \n",
    "        )\n",
    "        \n",
    "    def forward(self, x):\n",
    "        c = self.encoder(x) \n",
    "        d = self.decoder(c)\n",
    "        return d, c"
   ]
  },
  {
   "cell_type": "markdown",
   "metadata": {},
   "source": [
    "Now, train away!"
   ]
  },
  {
   "cell_type": "code",
   "execution_count": 6,
   "metadata": {},
   "outputs": [
    {
     "name": "stderr",
     "output_type": "stream",
     "text": [
      "Epochs: 100%|████████████████████████████████████████████████████████████████████████| 250/250 [00:22<00:00, 11.26it/s]\n"
     ]
    }
   ],
   "source": [
    "###########################################\n",
    "###########################################\n",
    "# create an instance \n",
    "###########################################\n",
    "###########################################\n",
    "\n",
    "D_in, H, D_out = 14*14, 15, 14*14    \n",
    "net = AutoEncoder(D_in, H, D_out).cpu()\n",
    "\n",
    "###########################################\n",
    "###########################################\n",
    "# optimization\n",
    "###########################################\n",
    "###########################################\n",
    "\n",
    "criterion = nn.MSELoss(reduction='mean')\n",
    "\n",
    "#optimizer = optim.SGD(net.parameters(), lr=1e-2)\n",
    "#optimizer = optim.SGD(net.parameters(), lr=1e-3, momentum=0.9)\n",
    "#optimizer = optim.Adam(net.parameters(), lr=1e-4, betas=(0.9, 0.999), eps=1e-08, weight_decay=0, amsgrad=True)\n",
    "optimizer = optim.Adam(net.parameters(),weight_decay=1e-5)\n",
    "\n",
    "###########################################\n",
    "###########################################\n",
    "# Optimize folks!\n",
    "###########################################\n",
    "###########################################\n",
    "\n",
    "# lets do stochastic gradient descent (will maybe drop in some mini batch for you soon)\n",
    "NoEpochs = 250\n",
    "Err = np.zeros((NoEpochs))\n",
    "for epoch in tqdm(range(NoEpochs),'Epochs'):\n",
    "    for i in range(N):\n",
    "        D = data[i,:].reshape((28,28))\n",
    "        D = D[0::2,0::2].reshape((14*14))\n",
    "        X = torch.Tensor(D)\n",
    "        optimizer.zero_grad()\n",
    "        output, code = net(X)\n",
    "        loss = criterion(output, X)\n",
    "        loss.backward()\n",
    "        optimizer.step()\n",
    "        Err[epoch] = Err[epoch] + loss "
   ]
  },
  {
   "cell_type": "markdown",
   "metadata": {},
   "source": [
    "Plot error"
   ]
  },
  {
   "cell_type": "code",
   "execution_count": null,
   "metadata": {},
   "outputs": [],
   "source": [
    "plt.plot(Err)\n",
    "plt.show()"
   ]
  },
  {
   "cell_type": "markdown",
   "metadata": {},
   "source": [
    "Show the result"
   ]
  },
  {
   "cell_type": "code",
   "execution_count": null,
   "metadata": {},
   "outputs": [],
   "source": [
    "# do for one digit\n",
    "\n",
    "Index = 0\n",
    "Digit = data[Index,:].reshape((28,28))\n",
    "Digit = Digit[0::2,0::2]\n",
    "plt.imshow(Digit, cmap=\"Greys\")\n",
    "plt.show()\n",
    "\n",
    "# push that through our net\n",
    "X = torch.Tensor(Digit.reshape((14*14)))\n",
    "output, code = net(X)\n",
    "        \n",
    "NetOutput = ((output.data).cpu().numpy()).reshape((14,14))\n",
    "plt.imshow(NetOutput, cmap=\"Greys\")\n",
    "plt.show()\n",
    "\n",
    "code = (code.data).cpu().numpy()\n",
    "plt.stem(code, use_line_collection=True)\n",
    "plt.show()\n",
    "\n",
    "# do for another\n",
    "\n",
    "Index = 10\n",
    "Digit = data[Index,:].reshape((28,28))\n",
    "Digit = Digit[0::2,0::2]\n",
    "plt.imshow(Digit, cmap=\"Greys\")\n",
    "plt.show()\n",
    "\n",
    "# push that through our net\n",
    "X = torch.Tensor(Digit.reshape((14*14)))\n",
    "output, code = net(X)\n",
    "        \n",
    "NetOutput = ((output.data).cpu().numpy()).reshape((14,14))\n",
    "plt.imshow(NetOutput, cmap=\"Greys\")\n",
    "plt.show()\n",
    "\n",
    "code = (code.data).cpu().numpy()\n",
    "plt.stem(code, use_line_collection=True)\n",
    "plt.show()"
   ]
  },
  {
   "cell_type": "markdown",
   "metadata": {},
   "source": [
    "# Q&A\n",
    "\n",
    "**Simple**\n",
    "\n",
    "  * Change the number of layers in the encoder and decoder\n",
    "  * Do you need to have the same number of layers in the encoder and decoder?\n",
    "  * How small can you make the Encoder-Decoder and get something *pleasing* ;-)\n",
    "\n",
    "**Hard**\n",
    "\n",
    "  * Can you regularize the above AE?... (yes, do it!)"
   ]
  }
 ],
 "metadata": {
  "kernelspec": {
   "display_name": "Python 3",
   "language": "python",
   "name": "python3"
  },
  "language_info": {
   "codemirror_mode": {
    "name": "ipython",
    "version": 3
   },
   "file_extension": ".py",
   "mimetype": "text/x-python",
   "name": "python",
   "nbconvert_exporter": "python",
   "pygments_lexer": "ipython3",
   "version": "3.8.8"
  }
 },
 "nbformat": 4,
 "nbformat_minor": 2
}
