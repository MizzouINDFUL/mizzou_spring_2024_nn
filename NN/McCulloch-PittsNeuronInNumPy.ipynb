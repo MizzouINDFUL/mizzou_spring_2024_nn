{
 "cells": [
  {
   "cell_type": "code",
   "execution_count": null,
   "metadata": {},
   "outputs": [],
   "source": [
    "%matplotlib inline"
   ]
  },
  {
   "cell_type": "markdown",
   "metadata": {},
   "source": [
    "# McCulloch-Pitts Neuron\n",
    "\n",
    "This was the first neuron\n",
    "\n",
    "Introduced by Warren McCulloch and Walter Pitts in 1943\n",
    "\n",
    "<img src=\"https://1.bp.blogspot.com/-u59IVaKus7U/WhIMOtEpHGI/AAAAAAAAr9Q/S8ChBoRRJtoX8jv6T_fiO7ELmOW4PJWAQCLcBGAs/s400/1.JPG\">\n",
    "\n",
    "We will assume the following notation below\n",
    "\n",
    "<img src=\"Images/Fig 2.5.jpg\">\n",
    "\n",
    " * $v = w^t x + b$\n",
    " * $y = \\text{hardlim}(v)$\n",
    "\n",
    "Additional readings if you need/want: \n",
    "\n",
    "  * McCulloch-Pitts and Perceptron: http://ecee.colorado.edu/~ecen4831/lectures/NNet2.html\n",
    "  * Wikipedia: https://en.wikipedia.org/wiki/Perceptron\n",
    "  * Wordy explanation: https://towardsdatascience.com/mcculloch-pitts-model-5fdf65ac5dd1 and https://towardsdatascience.com/perceptron-learning-algorithm-d5db0deab975\n",
    "  \n",
    "First, lets make and plot a two dimensional data set in Python!"
   ]
  },
  {
   "cell_type": "code",
   "execution_count": null,
   "metadata": {},
   "outputs": [],
   "source": [
    "import numpy as np # include the numpy library for operations on arrays as the name \"np\"\n",
    "import matplotlib.pyplot as plt # include the plotting library as the name \"plt\"\n",
    "\n",
    "# Lets make a really simple \"data set\"\n",
    "#  sample 1: (1,1), label == 0 (\"class 1\")\n",
    "#  sample 2: (1,0), label == 0 (\"class 1\")\n",
    "#  sample 3: (-1,0), label == 1 (\"class 2\")\n",
    "#  sample 4: (-1,1), label == 1 (\"class 2\")\n",
    "X = np.asarray([[1, 1], [1, 0], [-1, -0], [-1, 1]]) # data points\n",
    "L = np.asarray([0, 0, 1, 1]) # labels\n",
    "\n",
    "# Quick way to index the labels (Python command to look for 0's or 1's, return indices)\n",
    "class1 = np.where( L == 0 )\n",
    "class2 = np.where( L == 1 )\n",
    "\n",
    "# plot class 1\n",
    "plt.plot(X[class1,0],X[class1,1],'ro',label=\"class 1\") # draw red (r) and circle (0)\n",
    "\n",
    "# plot class 2\n",
    "plt.plot(X[class2,0],X[class2,1],'bx',label=\"class 2\") # draw blue (b) and an \"x\" (x)\n",
    "\n",
    "# figure title and axis labels \n",
    "plt.title('Simple data set') \n",
    "plt.xlabel('x axis')\n",
    "plt.ylabel('y axis')\n",
    "\n",
    "# draw x and y equal spacing\n",
    "plt.xlim(-2, 2)\n",
    "plt.ylim(-2, 2)\n",
    "plt.gca().set_aspect('equal', adjustable='box')\n",
    "plt.legend(bbox_to_anchor=(1.05,1),loc=2,borderaxespad=0)\n",
    "plt.show()"
   ]
  },
  {
   "cell_type": "markdown",
   "metadata": {},
   "source": [
    "Note, if you are not familiar with arrays, or at least Python arrays in numpy, you can read\n",
    "\n",
    " * https://numpy.org/devdocs/user/quickstart.html"
   ]
  },
  {
   "cell_type": "markdown",
   "metadata": {},
   "source": [
    "Now, lets code up a McCulloch-Pitts neuron in Python"
   ]
  },
  {
   "cell_type": "code",
   "execution_count": null,
   "metadata": {},
   "outputs": [],
   "source": [
    "import numpy as np # include the numpy library for ops on arrays as the name \"np\"\n",
    "\n",
    "x = np.asarray( [1, 0.5] ) # a new input that we want to run through the neuron\n",
    "\n",
    "# our weight vector in the McCulloch-Pitts neuron\n",
    "w = np.asarray( [0.5, 0] ) # we will have to address later how we get/learn/etc. w ...\n",
    "\n",
    "T = 0 # our threshold for the McCulloch-Pitts neuron\n",
    "\n",
    "# evaluate our neuron\n",
    "v = np.dot(x,w) # yup, that simple!\n",
    "y = ( v > T ) # this is the make a {0,1} decision based on threshold T\n",
    "print(\"Does this belong to class 1?\")\n",
    "print(y)\n",
    "\n",
    "# plot it\n",
    "plt.plot(X[class1,0],X[class1,1],'ro',label=\"class 1\") # draw red (r) and circle (0)\n",
    "plt.plot(X[class2,0],X[class2,1],'bx',label=\"class 2\") # draw blue (b) and an \"x\" (x)\n",
    "plt.plot(x[0],x[1],'kd',label=\"new data point\")\n",
    "plt.title('Simple data set') \n",
    "plt.xlabel('x axis')\n",
    "plt.ylabel('y axis')\n",
    "plt.xlim(-2, 2)\n",
    "plt.ylim(-2, 2)\n",
    "plt.gca().set_aspect('equal', adjustable='box')\n",
    "plt.legend(bbox_to_anchor=(1.05,1),loc=2,borderaxespad=0)\n",
    "plt.show()"
   ]
  },
  {
   "cell_type": "markdown",
   "metadata": {},
   "source": [
    "Lets try another data point"
   ]
  },
  {
   "cell_type": "code",
   "execution_count": null,
   "metadata": {},
   "outputs": [],
   "source": [
    "x = np.asarray( [-1, 0.5] ) # a new input\n",
    "\n",
    "# compute the neuron\n",
    "v = np.dot(x,w)\n",
    "y = ( v > T )\n",
    "print(\"Does this belong to class 1?\")\n",
    "print(y)\n",
    "\n",
    "# plot it\n",
    "plt.plot(X[class1,0],X[class1,1],'ro',label=\"class 1\") # draw red (r) and circle (0)\n",
    "plt.plot(X[class2,0],X[class2,1],'bx',label=\"class 2\") # draw blue (b) and an \"x\" (x)\n",
    "plt.plot(x[0],x[1],'kd',label=\"new data point\")\n",
    "plt.title('Simple data set') \n",
    "plt.xlabel('x axis')\n",
    "plt.ylabel('y axis')\n",
    "plt.xlim(-2, 2)\n",
    "plt.ylim(-2, 2)\n",
    "plt.gca().set_aspect('equal', adjustable='box')\n",
    "plt.legend(bbox_to_anchor=(1.05,1),loc=2,borderaxespad=0)\n",
    "plt.show()"
   ]
  },
  {
   "cell_type": "markdown",
   "metadata": {},
   "source": [
    "Easy stuff, right?"
   ]
  },
  {
   "cell_type": "markdown",
   "metadata": {},
   "source": [
    "# Reflection time\n",
    "\n",
    "Being able to address the following will prepare you for exams, projects, etc. I am not grading these questions, BUT, I do grade exams and projects, read between the lines :-) I will randomly pick questions to answer and can take questions from the class if enough of you are stuck on something.\n",
    "\n",
    "**Simple**\n",
    "\n",
    "1) Identify a weight vector that does NOT seperate these two classes\n",
    "\n",
    "2) What is another weight vector that DOES separate these two classes\n",
    "\n",
    "3) Can you pick a $T$ that breaks the above?\n",
    "\n",
    "**Slightly More Challenging**\n",
    "\n",
    "4) What is the \"relationship\" between $T$ and $w$?\n",
    "\n",
    "5) Can you make logic statements like $\\text{AND}(x_1,x_2)$ or $\\text{OR}(x_1,x_2)$ or $\\text{NOR}(x_1,x_2)$ or $\\text{AND(x_1,NOT(x_2))}$. You can refer to <a href=\"https://towardsdatascience.com/mcculloch-pitts-model-5fdf65ac5dd1\">link</a> if you are stumped"
   ]
  }
 ],
 "metadata": {
  "kernelspec": {
   "display_name": "Python 3",
   "language": "python",
   "name": "python3"
  },
  "language_info": {
   "codemirror_mode": {
    "name": "ipython",
    "version": 3
   },
   "file_extension": ".py",
   "mimetype": "text/x-python",
   "name": "python",
   "nbconvert_exporter": "python",
   "pygments_lexer": "ipython3",
   "version": "3.8.8"
  }
 },
 "nbformat": 4,
 "nbformat_minor": 4
}
