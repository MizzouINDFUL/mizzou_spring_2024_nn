{
 "cells": [
  {
   "cell_type": "markdown",
   "id": "31eff239",
   "metadata": {},
   "source": [
    "# Simple linear regression example in PyTorch\n",
    "\n",
    "OK gang, lets do somet basic PyTorch programming for a trivial linear regression problem"
   ]
  },
  {
   "cell_type": "code",
   "execution_count": null,
   "id": "40c6b130",
   "metadata": {},
   "outputs": [],
   "source": [
    "import torch\n",
    "import torch.nn as nn\n",
    "import numpy as np\n",
    "import matplotlib.pyplot as plt\n",
    "\n",
    "# Parameters\n",
    "input_size = 1 # input dimensionality\n",
    "output_size = 1 # output dimensionality, so if == 1 then y = (b1 * x1) + b0\n",
    "num_epochs = 60 # how many iterations to run / train?\n",
    "learning_rate = 0.001 # talk about in class!\n",
    "\n",
    "# Toy dataset\n",
    "x_train = np.array([[3.3], [4.4], [5.5], [6.71], [6.93], [4.168], \n",
    "                    [9.779], [6.182], [7.59], [2.167], [7.042], \n",
    "                    [10.791], [5.313], [7.997], [3.1]], dtype=np.float32)\n",
    "\n",
    "y_train = np.array([[1.7], [2.76], [2.09], [3.19], [1.694], [1.573], \n",
    "                    [3.366], [2.596], [2.53], [1.221], [2.827], \n",
    "                    [3.465], [1.65], [2.904], [1.3]], dtype=np.float32)\n",
    "# so, each of these make up a pair, e.g., (3.3, 1.7), (4.4, 2.76), ...\n",
    "\n",
    "# Linear regression model (a simple neuron!)\n",
    "# simple, its holds onto a weight vector with a bias term, so x * w\n",
    "model = nn.Linear(input_size, output_size)\n",
    "\n",
    "# Loss and optimizer\n",
    "criterion = nn.MSELoss() # this is mean squared error -> ( out output - real value )^2\n",
    "optimizer = torch.optim.SGD(model.parameters(), lr=learning_rate) # says use stochastic gradient descent\n",
    "\n",
    "# Train the model\n",
    "for epoch in range(num_epochs): # train for num_epochs \n",
    "    \n",
    "    # Convert numpy arrays to torch tensors\n",
    "    inputs = torch.from_numpy(x_train) # this puts into torch for PyTorch\n",
    "    targets = torch.from_numpy(y_train) # also, note, this is the full set of numbers above, an array!\n",
    "\n",
    "    # Forward pass\n",
    "    outputs = model(inputs) # what outputs given our current weights?\n",
    "    loss = criterion(outputs, targets) # evaluate the loss\n",
    "    \n",
    "    # Backward error and optimize!\n",
    "    optimizer.zero_grad()\n",
    "    loss.backward()\n",
    "    optimizer.step()\n",
    "    \n",
    "    # just some simple reporting\n",
    "    if (epoch+1) % 5 == 0:\n",
    "        print ('Epoch [{}/{}], Loss: {:.4f}'.format(epoch+1, num_epochs, loss.item()))\n",
    "\n",
    "# Plot the graph\n",
    "predicted = model(torch.from_numpy(x_train)).detach().numpy()\n",
    "plt.plot(x_train, y_train, 'ro', label='Original data')\n",
    "plt.plot(x_train, predicted, label='Fitted line')\n",
    "plt.legend()\n",
    "plt.show()\n",
    "\n",
    "# Save the model checkpoint\n",
    "torch.save(model.state_dict(), 'model.ckpt')"
   ]
  }
 ],
 "metadata": {
  "kernelspec": {
   "display_name": "Python 3",
   "language": "python",
   "name": "python3"
  },
  "language_info": {
   "codemirror_mode": {
    "name": "ipython",
    "version": 3
   },
   "file_extension": ".py",
   "mimetype": "text/x-python",
   "name": "python",
   "nbconvert_exporter": "python",
   "pygments_lexer": "ipython3",
   "version": "3.8.8"
  }
 },
 "nbformat": 4,
 "nbformat_minor": 5
}
