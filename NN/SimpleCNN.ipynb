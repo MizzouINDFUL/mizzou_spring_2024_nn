{
 "cells": [
  {
   "cell_type": "code",
   "execution_count": null,
   "metadata": {},
   "outputs": [],
   "source": [
    "%matplotlib inline"
   ]
  },
  {
   "cell_type": "markdown",
   "metadata": {},
   "source": [
    "# Simple CNN in PyTorch"
   ]
  },
  {
   "cell_type": "markdown",
   "metadata": {},
   "source": [
    "Hi class, lets create a simple shallow multi layer CNN \n",
    "\n",
    "First, lets specify the architecture \n",
    "\n",
    " * You can refer to https://pytorch.org/docs/stable/nn.html for functions and explenations"
   ]
  },
  {
   "cell_type": "code",
   "execution_count": null,
   "metadata": {},
   "outputs": [],
   "source": [
    "import torch.nn as nn                                                                      \n",
    "from torchvision import models\n",
    "\n",
    "# lets name oue neural network \"CNN\"\n",
    "class CNN(nn.Module):\n",
    "    \n",
    "    # this is our CNN initilization function     \n",
    "    def __init__(self, size, num_classes):\n",
    "        # self is ... well ourself! (https://www.askpython.com/python/python-self-variable)\n",
    "        # other variables are ones we made up\n",
    "        #   size is the number of spectral bands in our image (e.g., MNIST is 1, RGB imagery is 3)\n",
    "        #   num_classes is the number of output neurons (e.g., num_classes = 10 for 10 classes in MNIST)\n",
    "\n",
    "        # lets call our super function (https://www.pythonforbeginners.com/super/working-python-super-function)\n",
    "        # we do this first,  call its init fx\n",
    "        super(CNN, self).__init__()\n",
    "\n",
    "        # here is our \"feature extraction\" via convolutional layers \n",
    "        #   note: assume we got a single channel (grayscale) MNIST image of size 28x28x1\n",
    "        #         first layer\n",
    "        #             28x28x1 -> convolution (1 stride, 1 padd, 3x3 kernel, 2 kernels) -> 28x28x2\n",
    "        #         pooling\n",
    "        #             pool of 2x2 => 28x28 / 2 => 14x14 now (technically, 14x14x2 right!)\n",
    "        #         second layer\n",
    "        #             14x14x2 -> convolution (1 stride, 1 padd, 3x3 kernel, 4 kernels) -> 14x14x4\n",
    "        #         pooling\n",
    "        #             pool of 2x2 => 14x14 / 2 => 7x7 now (technically, 7x7x4 right!)\n",
    "        self.extract = nn.Sequential( # lets make a 2D convolution layer\n",
    "                                      nn.Conv2d( in_channels = size, out_channels = 2, \n",
    "                                                 kernel_size = 3, stride = 1, padding = 1), \n",
    "                                                     # in_channels = 1 for MNIST and 3 for RGB image\n",
    "                                                     # out_channels = 2 means 2 shared weights/features\n",
    "                                                     # kernel_size = 3 means a 3x3 size kernel\n",
    "                                                     # stride = 1 means move one pixel at a time in each dim\n",
    "                                                     # padding = adds one pixel of zeros to each side of each dim\n",
    "                                                     #           note, thats what keeps our spatial dims the same for a 3x3 kernel\n",
    "                                                     #           it also lets us process each location, even that border!!!\n",
    "                                      # its a NN, lets run a non-linearity on each of those results!\n",
    "                                      nn.ReLU(inplace = True),\n",
    "                                                     # could also use torch.nn.Sigmoid or etc.\n",
    "                                                     # inplace means don't have to return a result, do it on the data\n",
    "                                      # ----------------------------------------------------------- \n",
    "                                      # !!! hey, we just made a layer of convolution/nonlin !!!\n",
    "                                      # ----------------------------------------------------------- \n",
    "                                      # lets pool using a 2x2 region that is not overlapping\n",
    "                                      nn.MaxPool2d(2),                                                  \n",
    "                                      # lets do dropout with a small percentage/rate               \n",
    "                                      nn.Dropout(0.1),\n",
    "                                      # ----------------------------------------------------------- \n",
    "                                      # now, lets make another layer of convolution, pooling, and drop out\n",
    "                                      nn.Conv2d( in_channels = 2, out_channels = 4, \n",
    "                                                 kernel_size = 3, stride = 1, padding = 1),\n",
    "                                                 # in_channels here needs to match out_channels above\n",
    "                                                 # lets use 5 filters \n",
    "                                      nn.ReLU(inplace = True),\n",
    "                                      nn.MaxPool2d(2),\n",
    "                                      nn.Dropout(0.1), )\n",
    "\n",
    "        # ok, now we are going to make a simple MLP classifier on the end of our above features\n",
    "        self.decimate = nn.Sequential( nn.Linear(4*(7*7), 12),  \n",
    "                                            # take our 4 filters whose response fields are 7x7 to 12 neurons\n",
    "                                       nn.ReLU(inplace = True), # run a nonlinearity\n",
    "                                       nn.Dropout(0.2), # some drop out\n",
    "                                       nn.Linear(12, num_classes) ) # map the 32 down to our number of output classes\n",
    " \n",
    "    #----------------------------\n",
    "    # Model: Invoke Forward Pass\n",
    "    #----------------------------\n",
    "\n",
    "    def forward(self, x):\n",
    "\n",
    "        features = self.extract(x) # easy, pass input (x) to our \"feature extraction\" above\n",
    "        features = features.view(features.size()[0], -1) # now, flatten 7x7x4 matrix to 1D array of 7*7*4 size\n",
    "        myresult = self.decimate(features) # pass that to our MLP classifier, and done!!!\n",
    "\n",
    "        return myresult"
   ]
  },
  {
   "cell_type": "markdown",
   "metadata": {},
   "source": [
    "Next, lets load our training data set for MNIST"
   ]
  },
  {
   "cell_type": "code",
   "execution_count": null,
   "metadata": {},
   "outputs": [],
   "source": [
    "import os\n",
    "import torch\n",
    "import numpy as np\n",
    "from torchvision import datasets\n",
    "import torchvision\n",
    "\n",
    "# nice built in functions for common data sets \n",
    "#  go read https://pytorch.org/docs/stable/torchvision/datasets.html\n",
    "train = datasets.MNIST( root = './', # where to download data set to\n",
    "                       train = True, # If True, creates dataset from training.pt, otherwise from test.pt\n",
    "                       transform=torchvision.transforms.Compose([\n",
    "                               torchvision.transforms.ToTensor()]), # convert data into tensor vs PIL image \n",
    "                       download = True)"
   ]
  },
  {
   "cell_type": "markdown",
   "metadata": {},
   "source": [
    "How many data points and lets look at an image"
   ]
  },
  {
   "cell_type": "code",
   "execution_count": null,
   "metadata": {},
   "outputs": [],
   "source": [
    "print(\"[num of images, image x size, image y size]\")\n",
    "print(train.data.shape)\n",
    "\n",
    "print(\"what type of data is it?\")\n",
    "print(type(train.data[0]))\n",
    "\n",
    "print(\"what is min and max values?\")\n",
    "print(torch.max(train.data[0]))\n",
    "print(torch.min(train.data[0]))\n",
    "\n",
    "# lets plot it\n",
    "import matplotlib.pyplot as plt\n",
    "plt.imshow(train.data[0])"
   ]
  },
  {
   "cell_type": "markdown",
   "metadata": {},
   "source": [
    "If you want to work with validation or test data, follow\n",
    "\n",
    "    valid = datasets.MNIST( root = './', train = False, download = True)\n",
    "    test = datasets.MNIST( root = './', train = False, download = True)"
   ]
  },
  {
   "cell_type": "markdown",
   "metadata": {},
   "source": [
    "Lets now make a data loader object to hold onto our data that we can use for batch processing and stuff"
   ]
  },
  {
   "cell_type": "code",
   "execution_count": null,
   "metadata": {},
   "outputs": [],
   "source": [
    "import torch.utils.data as tech \n",
    "\n",
    "# how big of batches do you guys/gals want?\n",
    "batch_size = 16\n",
    "\n",
    "# our data loader that we will use to manage our data\n",
    "train_ld = tech.DataLoader(dataset = train, shuffle = True, batch_size = batch_size)       "
   ]
  },
  {
   "cell_type": "markdown",
   "metadata": {},
   "source": [
    "Again, you can work with validation and test data as well\n",
    "    \n",
    "    valid = tech.DataLoader(dataset = valid, shuffle = False, batch_size = batch_size)      \n",
    "    test = tech.DataLoader(dataset = test, shuffle = False, batch_size = 1) "
   ]
  },
  {
   "cell_type": "markdown",
   "metadata": {},
   "source": [
    "Lets create an instance of our CNN"
   ]
  },
  {
   "cell_type": "code",
   "execution_count": null,
   "metadata": {},
   "outputs": [],
   "source": [
    "input_size = 1 # just 1 band for MNIST\n",
    "num_classes = 10 # we have 10 classes in MNIST\n",
    "model = CNN(input_size, num_classes) "
   ]
  },
  {
   "cell_type": "markdown",
   "metadata": {},
   "source": [
    "Now, pick optimization algorithm and error function"
   ]
  },
  {
   "cell_type": "code",
   "execution_count": null,
   "metadata": {},
   "outputs": [],
   "source": [
    "learning_rate = 0.0001\n",
    "optimizer = torch.optim.Adam(model.parameters(), lr = learning_rate)\n",
    "costfx = torch.nn.CrossEntropyLoss()"
   ]
  },
  {
   "cell_type": "markdown",
   "metadata": {},
   "source": [
    "Training time!"
   ]
  },
  {
   "cell_type": "code",
   "execution_count": null,
   "metadata": {},
   "outputs": [],
   "source": [
    "from tqdm import tqdm_notebook as tqdm\n",
    "\n",
    "num_epochs = 1                                        \n",
    "for epoch in range(num_epochs): # how many epochs? \n",
    "    \n",
    "    epoch_loss = [] # keep track of our loss?\n",
    "    \n",
    "    for batch_id, train_params in enumerate(tqdm(train_ld)):  # lets grab a bunch of mini-batches from our training data set\n",
    "        \n",
    "        # samples are our images, labels are their class labels\n",
    "        samples, labels = train_params\n",
    "        \n",
    "        # we need to convert these into tensors\n",
    "        samples = samples.type('torch.FloatTensor') \n",
    "        labels = labels.type('torch.LongTensor')  \n",
    "\n",
    "        # lets predict (forward pass)\n",
    "        prediction = model(samples)\n",
    "        # evaluate our error\n",
    "        loss = costfx(prediction, labels)\n",
    "        # keep track of that loss\n",
    "        epoch_loss.append(loss.item())\n",
    "        # zero our gradients\n",
    "        optimizer.zero_grad()  \n",
    "        # calc our gradients\n",
    "        loss.backward()     \n",
    "        # do our update\n",
    "        optimizer.step()\n",
    "    \n",
    "    # keep track of loss over our batches\n",
    "    epoch_loss = sum(epoch_loss)/len(epoch_loss)  "
   ]
  },
  {
   "cell_type": "markdown",
   "metadata": {},
   "source": [
    "Save the model"
   ]
  },
  {
   "cell_type": "code",
   "execution_count": null,
   "metadata": {},
   "outputs": [],
   "source": [
    "torch.save(model, './my_mnist_model.pt') "
   ]
  },
  {
   "cell_type": "markdown",
   "metadata": {},
   "source": [
    "Render the filters"
   ]
  },
  {
   "cell_type": "code",
   "execution_count": null,
   "metadata": {},
   "outputs": [],
   "source": [
    "for i in range(2):\n",
    "    plt.figure()\n",
    "    plt.imshow( np.squeeze( model.extract[0].weight[i,:,:,:].detach().numpy() ) )"
   ]
  },
  {
   "cell_type": "markdown",
   "metadata": {},
   "source": [
    "Next, lets scrub all the junk in our net that was needed at training time, like dropout"
   ]
  },
  {
   "cell_type": "code",
   "execution_count": null,
   "metadata": {},
   "outputs": [],
   "source": [
    "model = model.eval()"
   ]
  },
  {
   "cell_type": "markdown",
   "metadata": {},
   "source": [
    "Lets do resub, load back up a data point and see how we did ..."
   ]
  },
  {
   "cell_type": "code",
   "execution_count": null,
   "metadata": {},
   "outputs": [],
   "source": [
    "%matplotlib inline\n",
    "from tqdm import tqdm_notebook as tqdm\n",
    "\n",
    "# resub because we are loading our MNIST training data set\n",
    "test = tech.DataLoader(dataset = train, shuffle = False, batch_size = 1) \n",
    "\n",
    "# how did we do...\n",
    "ConfusionMatrix = torch.zeros((10,10))\n",
    "for sample, label in tqdm(test):\n",
    "    # what is its label?\n",
    "    label = int(label.numpy())\n",
    "    #print(\"Real label is\")\n",
    "    #print(label)\n",
    "    # convert the sample (image) to a tensor for PyTorch\n",
    "    sample = sample.type('torch.FloatTensor')\n",
    "    # do forward pass (i.e., prediction)\n",
    "    prediction = model(sample) \n",
    "    # take the largest output and return integer of which it was (make a classification decision)\n",
    "    prediction = int(torch.argmax(prediction).numpy())\n",
    "    # what was our prediction?\n",
    "    #print(prediction)\n",
    "    ConfusionMatrix[label,prediction] = ConfusionMatrix[label,prediction] + 1"
   ]
  },
  {
   "cell_type": "markdown",
   "metadata": {},
   "source": [
    "Lets plot a confusion matrix (see https://seaborn.pydata.org/generated/seaborn.heatmap.html)"
   ]
  },
  {
   "cell_type": "code",
   "execution_count": null,
   "metadata": {},
   "outputs": [],
   "source": [
    "import seaborn as sn  # yes, I had to \"conda install seaborn\"\n",
    "import pandas as pd\n",
    "import matplotlib.pyplot as plt\n",
    "\n",
    "df_cm = pd.DataFrame(np.asarray(ConfusionMatrix), index = [i for i in \"0123456789\"],\n",
    "                  columns = [i for i in \"0123456789\"])\n",
    "plt.figure(figsize = (10,7))\n",
    "sn.heatmap(df_cm, annot=True)\n",
    "plt.show()"
   ]
  },
  {
   "cell_type": "markdown",
   "metadata": {},
   "source": [
    "Lets do it on the test data (not seen before)"
   ]
  },
  {
   "cell_type": "code",
   "execution_count": null,
   "metadata": {},
   "outputs": [],
   "source": [
    "test = datasets.MNIST( root = './', \n",
    "                       train = False, \n",
    "                       transform=torchvision.transforms.Compose([\n",
    "                               torchvision.transforms.ToTensor()]), # convert data into tensor vs PIL image                       \n",
    "                       download = True)\n",
    "\n",
    "# resub because we are loading our MNIST training data set\n",
    "test2 = tech.DataLoader(dataset = test, shuffle = False, batch_size = 1) \n",
    "\n",
    "# how did we do...\n",
    "ConfusionMatrix = torch.zeros((10,10))\n",
    "for sample, label in tqdm(test2):\n",
    "    # what is its label?\n",
    "    label = int(label.numpy())\n",
    "    #print(\"Real label is\")\n",
    "    #print(label)\n",
    "    # convert the sample (image) to a tensor for PyTorch\n",
    "    sample = sample.type('torch.FloatTensor')\n",
    "    # do forward pass (i.e., prediction)\n",
    "    prediction = model(sample) \n",
    "    # take the largest output and return integer of which it was (make a classification decision)\n",
    "    prediction = int(torch.argmax(prediction).numpy())\n",
    "    # what was our prediction?\n",
    "    #print(prediction)\n",
    "    ConfusionMatrix[label,prediction] = ConfusionMatrix[label,prediction] + 1\n",
    "    \n",
    "df_cm = pd.DataFrame(np.asarray(ConfusionMatrix), index = [i for i in \"0123456789\"],\n",
    "                  columns = [i for i in \"0123456789\"])\n",
    "plt.figure(figsize = (10,7))\n",
    "sn.heatmap(df_cm, annot=True)\n",
    "plt.show()"
   ]
  }
 ],
 "metadata": {
  "kernelspec": {
   "display_name": "Python 3",
   "language": "python",
   "name": "python3"
  },
  "language_info": {
   "codemirror_mode": {
    "name": "ipython",
    "version": 3
   },
   "file_extension": ".py",
   "mimetype": "text/x-python",
   "name": "python",
   "nbconvert_exporter": "python",
   "pygments_lexer": "ipython3",
   "version": "3.8.8"
  }
 },
 "nbformat": 4,
 "nbformat_minor": 4
}
