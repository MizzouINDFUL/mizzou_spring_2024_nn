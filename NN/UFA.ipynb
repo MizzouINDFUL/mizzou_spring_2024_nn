{
 "cells": [
  {
   "cell_type": "code",
   "execution_count": null,
   "id": "e7e24981",
   "metadata": {},
   "outputs": [],
   "source": [
    "%matplotlib inline"
   ]
  },
  {
   "cell_type": "markdown",
   "id": "326fb61a-ef7f-4515-95ee-ff0cce701146",
   "metadata": {},
   "source": [
    "Here is an example we might discuss in class (based on https://towardsdatascience.com/can-neural-networks-really-learn-any-function-65e106617fc6) \n",
    "\n",
    "The point is, when looking at something like the universal function approximation (UFA) theorem, what does it mean? :) Meaning, many students study the theorem but never really develop any intuition. It is an existance theorem. \n",
    "\n",
    "Below, we have a target function and we combine a few simpler functions (our 'basic functions') and try to approximate our function."
   ]
  },
  {
   "cell_type": "code",
   "execution_count": null,
   "id": "2b5c5d4d",
   "metadata": {},
   "outputs": [],
   "source": [
    "import numpy as np \n",
    "import matplotlib.pyplot as plt \n",
    "\n",
    "x = np.asarray(np.linspace(-2, 2, 1000))\n",
    "\n",
    "# target fx\n",
    "f = np.power(x,3) + np.power(x,2) - x - 1\n",
    "\n",
    "# mini fx's\n",
    "n1 = np.maximum(-5 * x - 7.7,0)\n",
    "n2 = np.maximum(-1.2 * x - 1.3,0)\n",
    "n3 = np.maximum(1.2 * x + 1,0)\n",
    "z = -n1 -n2 -n3\n",
    "\n",
    "# draw x and y equal spacing\n",
    "plt.xlim(-2, 2)\n",
    "plt.ylim(-2, 2)\n",
    "plt.gca().set_aspect('equal', adjustable='box')\n",
    "plt.plot(x,f,'b')\n",
    "plt.plot(x,n1,'r')\n",
    "plt.plot(x,n2,'g')\n",
    "plt.plot(x,n3,'m')\n",
    "plt.plot(x,z,'k')\n",
    "plt.show()"
   ]
  },
  {
   "cell_type": "markdown",
   "id": "40e008a9-4019-460c-bd14-ffa533b466fe",
   "metadata": {},
   "source": [
    "Now, depending on the number of functions that we use, we can get a better approximation"
   ]
  },
  {
   "cell_type": "code",
   "execution_count": null,
   "id": "4142a1b4",
   "metadata": {},
   "outputs": [],
   "source": [
    "import numpy as np # include the numpy library for ops on arrays as the name \"np\"\n",
    "import matplotlib.pyplot as plt # include the plotting library as the name \"plt\"\n",
    "\n",
    "x = np.asarray(np.linspace(-2, 2, 1000))\n",
    "\n",
    "# target fx\n",
    "f = np.power(x,3) + np.power(x,2) - x - 1\n",
    "\n",
    "# mini fx's\n",
    "n1 = np.maximum(-5 * x - 7.7,0)\n",
    "n2 = np.maximum(-1.2 * x - 1.3,0)\n",
    "n3 = np.maximum(1.2 * x + 1,0)\n",
    "n4 = np.maximum(1.2 * x - 0.2,0)\n",
    "n5 = np.maximum(2 * x - 1.1,0)\n",
    "n6 = np.maximum(5 * x - 2,0)\n",
    "z = -n1 -n2 -n3 +n4 + n5 + n6\n",
    "\n",
    "# draw x and y equal spacing\n",
    "plt.xlim(-2, 2)\n",
    "plt.ylim(-2, 2)\n",
    "plt.gca().set_aspect('equal', adjustable='box')\n",
    "plt.plot(x,f,'b')\n",
    "plt.plot(x,n1,'r')\n",
    "plt.plot(x,n2,'r')\n",
    "plt.plot(x,n3,'r')\n",
    "plt.plot(x,n4,'r')\n",
    "plt.plot(x,n5,'r')\n",
    "plt.plot(x,n6,'r')\n",
    "plt.plot(x,z,'k')\n",
    "plt.show()"
   ]
  },
  {
   "cell_type": "markdown",
   "id": "5d2d403d-42d9-4723-9712-9e40617b1129",
   "metadata": {},
   "source": [
    "And this process can be repeated and expanded to get an even tighter / better approximation\n",
    "\n",
    "But, what set of functions do we pick? Are they always gaurenteed to reconstruct our target function? Under what conditions? etc. Ohhhh, the joy and pure torture of the UFA.\n",
    "\n",
    "Some good additional links (with the math!!! :) include:\n",
    "\n",
    " * https://link.springer.com/article/10.1007/BF02551274\n",
    " * https://mcneela.github.io/machine_learning/2017/03/21/Universal-Approximation-Theorem.html"
   ]
  }
 ],
 "metadata": {
  "kernelspec": {
   "display_name": "Python 3",
   "language": "python",
   "name": "python3"
  },
  "language_info": {
   "codemirror_mode": {
    "name": "ipython",
    "version": 3
   },
   "file_extension": ".py",
   "mimetype": "text/x-python",
   "name": "python",
   "nbconvert_exporter": "python",
   "pygments_lexer": "ipython3",
   "version": "3.8.8"
  }
 },
 "nbformat": 4,
 "nbformat_minor": 5
}
