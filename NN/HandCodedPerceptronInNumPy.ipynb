{
 "cells": [
  {
   "cell_type": "code",
   "execution_count": null,
   "metadata": {},
   "outputs": [],
   "source": [
    "%matplotlib inline"
   ]
  },
  {
   "cell_type": "markdown",
   "metadata": {},
   "source": [
    "# Hand Coded Perceptron in NumPy\n",
    "\n",
    "Let's look at the famous nonlinear XOR problem and the Perceptron\n",
    "\n",
    "No learning algorithm below, we are just looking at a user defined (you!!!) solution"
   ]
  },
  {
   "cell_type": "code",
   "execution_count": null,
   "metadata": {},
   "outputs": [],
   "source": [
    "# this is a comment in Python!\n",
    "\n",
    "import numpy as np # include the numpy library for ops on arrays as the name \"np\"\n",
    "import matplotlib.pyplot as plt # include the plotting library as the name \"plt\"\n",
    "\n",
    "# XOR data points: asarray takes list format and converts it into an array\n",
    "X1 = np.asarray([[1, 1], [0, 0]]) # class 1, points (1,1) and (0,0)\n",
    "X2 = np.asarray([[1, 0], [0, 1]]) # class 2, points (1,0) and (0,1)\n",
    "\n",
    "# plot them\n",
    "plt.plot(X1[:,0],X1[:,1],'ro',label=\"class 1\") # draw red (r) and circle (0)\n",
    "                                               # : says all in that dim!\n",
    "plt.plot(X2[:,0],X2[:,1],'bx',label=\"class 2\") # draw blue (b) and an \"x\" (x)\n",
    "# figure title and axis labels \n",
    "plt.title('XOR') \n",
    "plt.xlabel('x axis')\n",
    "plt.ylabel('y axis')\n",
    "# draw x and y equal spacing\n",
    "plt.xlim(-0.1, 1.1)\n",
    "plt.ylim(-0.1, 1.1)\n",
    "plt.gca().set_aspect('equal', adjustable='box')\n",
    "plt.legend(bbox_to_anchor=(1.05,1),loc=2,borderaxespad=0)\n",
    "plt.show()"
   ]
  },
  {
   "cell_type": "markdown",
   "metadata": {},
   "source": [
    "Now, lets pick a weight vector and plot it"
   ]
  },
  {
   "cell_type": "code",
   "execution_count": null,
   "metadata": {},
   "outputs": [],
   "source": [
    "# weight vector \n",
    "w = np.asarray([1.1, 1.1, -1]) # weight 1 = 1.1, weight 2 = 1.1, bias = -1\n",
    "print(w)"
   ]
  },
  {
   "cell_type": "code",
   "execution_count": null,
   "metadata": {},
   "outputs": [],
   "source": [
    "# lets do the calculation for our four points\n",
    "\n",
    "for i in range(2):\n",
    "    print( \"Output of \" + str( np.dot(w[0:2],X1[i,:]) + 1*w[2] ) + \" for input \" + str( X1[i,:] ) )\n",
    "\n",
    "for i in range(2):\n",
    "    print( \"Output of \" + str( np.dot(w[0:2],X2[i,:]) + 1*w[2] ) + \" for input \" + str( X2[i,:] ) )"
   ]
  },
  {
   "cell_type": "markdown",
   "metadata": {},
   "source": [
    "note: the range function: https://www.pythoncentral.io/pythons-range-function-explained/\n",
    "  * range(start,stop,step)"
   ]
  },
  {
   "cell_type": "markdown",
   "metadata": {},
   "source": [
    "Next, we can calculate the x and y intercepts (for geometric view of Perceptron)\n",
    "\n",
    "i.e., where our perceptron, line in two dimensions, crosses the \"x\" and \"y\" axes"
   ]
  },
  {
   "cell_type": "code",
   "execution_count": null,
   "metadata": {},
   "outputs": [],
   "source": [
    "print( \"x intercept is \" + str( (-1) * (w[2]/w[0]) ) )\n",
    "print( \"y intercept is \" + str( (-1) * (w[2]/w[1]) ) )"
   ]
  },
  {
   "cell_type": "markdown",
   "metadata": {},
   "source": [
    "Lets \"draw\" (by rasterizing the space) a decision surface"
   ]
  },
  {
   "cell_type": "code",
   "execution_count": null,
   "metadata": {},
   "outputs": [],
   "source": [
    "import math\n",
    "\n",
    "# step size from sample to sample \n",
    "Delta = 0.01\n",
    "# bounds to render (so, [0,1] gives us 0 to 1)\n",
    "Bounds = np.asarray([0,1])\n",
    "# how many samples to make\n",
    "Res = math.ceil((Bounds[1] - Bounds[0]) / Delta)\n",
    "\n",
    "# store our perceptron result\n",
    "Result = np.zeros([Res,Res])\n",
    "for i in range(Res):\n",
    "    for j in range(Res):\n",
    "        # our coordinate, aka data point\n",
    "        ind_i = Bounds[0] + (i*Delta)\n",
    "        ind_j = Bounds[0] + (j*Delta)        \n",
    "        # result of perceptron\n",
    "        Result[i,j] = np.dot(w[0:2],np.asarray([ind_i, ind_j])) + 1*w[2]  \n",
    "\n",
    "# figure out the smallest and biggest numbers (to show as an image with [0,1] or [0,255])\n",
    "SmallNum = np.amin( Result )\n",
    "BigNum = np.amax( Result )\n",
    "\n",
    "# make our results into an image\n",
    "ResultColor = np.zeros([Res,Res,3]) # for RGB\n",
    "for i in range(Res):\n",
    "    for j in range(Res):      \n",
    "        if( np.abs(Result[i,j]) < 0.02 ): # decision boundary\n",
    "            ResultColor[i,j,:] = np.asarray([1,1,1])\n",
    "        elif( Result[i,j] > 0 ): # class 1\n",
    "            ResultColor[i,j,:] = np.asarray([1,0,0]) * (Result[i,j] / BigNum)\n",
    "        else: # class 2\n",
    "            ResultColor[i,j,:] = np.asarray([0,1,0]) * (Result[i,j] / SmallNum)\n",
    "                        \n",
    "# render it\n",
    "fig = plt.figure(figsize = (8,8))\n",
    "fig = plt.imshow(np.flipud(ResultColor))\n",
    "fig.axes.get_xaxis().set_visible(False)\n",
    "fig.axes.get_yaxis().set_visible(False)\n",
    "plt.show()"
   ]
  },
  {
   "cell_type": "markdown",
   "metadata": {},
   "source": [
    "I normalized each class/region between the min and max observed value for pretty display. \n",
    "\n",
    "Have fun, play around with X1 and X2 above and also the weight terms!"
   ]
  },
  {
   "cell_type": "markdown",
   "metadata": {},
   "source": [
    "# Reflection \n",
    "\n",
    "Address the following\n",
    "\n",
    "1) Change the color of the plotted image\n",
    "\n",
    "2) Plot units on the figure axes\n",
    "\n",
    "3) Look up \"val = input(\"give me some input\")\" and ask the user for a weight vector"
   ]
  }
 ],
 "metadata": {
  "kernelspec": {
   "display_name": "Python 3",
   "language": "python",
   "name": "python3"
  },
  "language_info": {
   "codemirror_mode": {
    "name": "ipython",
    "version": 3
   },
   "file_extension": ".py",
   "mimetype": "text/x-python",
   "name": "python",
   "nbconvert_exporter": "python",
   "pygments_lexer": "ipython3",
   "version": "3.8.8"
  }
 },
 "nbformat": 4,
 "nbformat_minor": 4
}
