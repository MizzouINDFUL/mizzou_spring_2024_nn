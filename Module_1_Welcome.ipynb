{
 "cells": [
  {
   "cell_type": "markdown",
   "metadata": {},
   "source": [
    "# Introduction to Neural Networks\n",
    "\n",
    "These Jupyter Notebook pages are designed to help you better understand Neural Networks (NN). They are supplemental to the lectures and books; but YES I do EXPECT that you are reading and using them! The goal is to give you additional readings and interactive code examples to develop intuition and better understand the theories discussed in the classroom. "
   ]
  },
  {
   "cell_type": "markdown",
   "metadata": {},
   "source": [
    "#### What is a Jupyter Notebook page?\n",
    "\n",
    "<img src=\"data:image/png;base64,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\">\n",
    "\n",
    "We will use Jupyter to deliver an interactive *standalone* (run on your local computer through a web browser!) or web-based (e.g., I host on a server) learning experience. In Jupyter we can do text, pictures, equations, and code that can be edited on the fly. Some useful initial links to get you started \n",
    "\n",
    " * https://jupyter.org/\n",
    " * https://www.dataquest.io/blog/jupyter-notebook-tutorial/"
   ]
  },
  {
   "cell_type": "markdown",
   "metadata": {},
   "source": [
    "# How do I (you) get ('git') Jupyter material week-2-week?\n",
    "\n",
    "Congrats, you made it this far! \n",
    "\n",
    "Each week, you need to \n",
    "\n",
    "* Open a shell\n",
    "* Move (use that 'cd' command!) into your class folder\n",
    "* Run 'git pull' (that does the update folks!)\n",
    "\n",
    "Yup, its that simple folks\n",
    "\n",
    "Oh, if you delete a file and want to re-download it, try\n",
    "\n",
    "* git reset --hard origin/master"
   ]
  },
  {
   "cell_type": "markdown",
   "metadata": {},
   "source": [
    "# How do I run code in Jupyter?\n",
    "\n",
    "At any time, press the \"+\" above or \"Insert->Insert Cell Below\" if you want to make a new cell. \n",
    "\n",
    "To type text, look at the drop down above and pick \"Markdown\". \n",
    "\n",
    "For code, pick \"Code\". \n",
    "\n",
    "To run a code cell, click \"Ctrl-Enter\" or hit the \"Run\" button above. \n",
    "\n",
    "To save, press \"File->Save and Checkpoint\". \n",
    "\n",
    "OK, there is a lot more for you to learn but that should get you started! \n",
    "\n",
    "Lets look at a code example, go to the next cell."
   ]
  },
  {
   "cell_type": "code",
   "execution_count": null,
   "metadata": {},
   "outputs": [],
   "source": [
    "# This is a comment in Python \n",
    "import numpy as np # this includes the numpy library as the name \"np\"\n",
    "\n",
    "# Lets make a matrix (a 2D array...)\n",
    "# [1 2] - first row has two numbers, 1 and 2\n",
    "# [3 4] - second row has two numbers, 3 and 4\n",
    "A = np.mat('[1 2; 3 4]')\n",
    "\n",
    "# This will dump the contents of A to the screen\n",
    "print('Matrix A')\n",
    "print(A)\n",
    "\n",
    "# Lets make an identity matrix \n",
    "# [ 1 0 ]\n",
    "# [ 0 1 ]\n",
    "# so, its 1's along the \"diagonal\" and 0's on the off-diags\n",
    "print('Identity matrix')\n",
    "B = np.eye(2)\n",
    "print(B)\n",
    "\n",
    "# add two matrices (aka, add the numbers per-element)\n",
    "print('Addition of matrices')\n",
    "print(A+B)\n",
    "print( np.add(A,B) )"
   ]
  },
  {
   "cell_type": "markdown",
   "metadata": {},
   "source": [
    "Note, after you run a cell, if you want to clear the contents/results of your cells, click \"Cell->All Output->Clear\""
   ]
  },
  {
   "cell_type": "markdown",
   "metadata": {},
   "source": [
    "# What if I try to use a Python library that does not exist?\n",
    "\n",
    "You will need to install software and libraries from time-2-time. You can do via\n",
    "\n",
    " * pip (https://pip.pypa.io/en/stable/)\n",
    " * conda (https://docs.conda.io/en/latest/)\n",
    " * homebrew (https://brew.sh/)\n",
    "\n",
    "e.g., \n",
    "\n",
    " * pip3 install numpy\n",
    " * conda install numpy\n",
    " * brew install numpy\n",
    " \n",
    "note, if you are using conda, then I recommend staying with conda (same w.r.t. pip), versus mix and match installing"
   ]
  },
  {
   "cell_type": "markdown",
   "metadata": {},
   "source": [
    "# Conda\n",
    "\n",
    "I like to install separate clean/isolated conda environments\n",
    "\n",
    "You can do the same, e.g.,\n",
    " \n",
    "  * conda create --name your_env_name\n",
    "  * conda activate your_env_name\n",
    "  * conda deactivate\n",
    "  \n",
    "That will create a new isolated conda env, load it for you, and eventually you can get out of it via deactivate"
   ]
  },
  {
   "cell_type": "markdown",
   "metadata": {},
   "source": [
    "# What are some useful links to get me ready for CI?\n",
    "\n",
    "<img src=\"https://ecdn.teacherspayteachers.com/thumbitem/Just-Do-It-Math-2525229-1461790249/original-2525229-1.jpg\">\n",
    "\n",
    "Well gang, you cannot hide from math. Why would you want to ?!?! Its good (great!) for you (I promise)! As you will see, we are not just doing \"math for the sake of math\" (which is still fun at that). Math is a wonderful \"langauge\" for the things we want to do in Computational Intelligence (CI). One of the first *definitions* of CI was \"computing with numbers\" vs \"classical AI\" and \"computing with symbols\".\n",
    "\n",
    "OK, you should try to refresh yourself with some linear algebra and Calculus. Here are a few good links that have explenations and animations. I will cover what we need in class, but you should strive for more in life and mastering these disciplines is a good starting point.\n",
    "\n",
    "### Linear Algebra Primers/Reviews\n",
    "\n",
    "* What is a vector: https://www.youtube.com/watch?v=fNk_zzaMoSs&t=526s&list=PLZHQObOWTQDPD3MizzM2xVFitgF8hE_ab&index=2\n",
    "\n",
    "* Linear combinations, span, and basis vectors: https://www.youtube.com/watch?v=k7RM-ot2NWY&t=0s&list=PLZHQObOWTQDPD3MizzM2xVFitgF8hE_ab&index=3\n",
    "\n",
    "* Linear transformations and matrices: https://www.youtube.com/watch?v=kYB8IZa5AuE&t=537s&list=PLZHQObOWTQDPD3MizzM2xVFitgF8hE_ab&index=4\n",
    "\n",
    "* Three-dimensional linear transformations: https://www.youtube.com/watch?v=rHLEWRxRGiM&t=0s&list=PLZHQObOWTQDPD3MizzM2xVFitgF8hE_ab&index=6\n",
    "\n",
    "* The determinant: https://www.youtube.com/watch?v=Ip3X9LOh2dk&t=0s&list=PLZHQObOWTQDPD3MizzM2xVFitgF8hE_ab&index=7\n",
    "\n",
    "* Inverse: https://www.youtube.com/watch?v=uQhTuRlWMxw&t=0s&list=PLZHQObOWTQDPD3MizzM2xVFitgF8hE_ab&index=8\n",
    "\n",
    "* Dot product: https://www.youtube.com/watch?v=LyGKycYT2v0&t=0s&list=PLZHQObOWTQDPD3MizzM2xVFitgF8hE_ab&index=10\n",
    "\n",
    "* Eigenvectors and eigenvalues: https://www.youtube.com/watch?v=PFDu9oVAE-g&t=0s&list=PLZHQObOWTQDPD3MizzM2xVFitgF8hE_ab&index=14\n",
    "\n",
    "### Calculus Primers/Reviews\n",
    "\n",
    "* Essence of calculus: https://www.youtube.com/watch?v=WUvTyaaNkzM&list=PLZHQObOWTQDMsr9K-rj53DwVRMYO3t5Yr&index=1\n",
    "\n",
    "* Visualizing the chain rule and product rule: https://www.youtube.com/watch?v=YG15m2VwSjA&list=PLZHQObOWTQDMsr9K-rj53DwVRMYO3t5Yr&t=0s&index=5\n",
    "\n",
    "* Integration and the fundamental theorem of calculus: https://www.youtube.com/watch?v=rfG8ce4nNh0&list=PLZHQObOWTQDMsr9K-rj53DwVRMYO3t5Yr&t=0s&index=9\n",
    "\n",
    "### Here are some useful links to symbolic manipulation\n",
    "\n",
    " * [Symbolab](https://www.symbolab.com) \n",
    " * [Wolframalpha](https://www.wolframalpha.com)"
   ]
  },
  {
   "cell_type": "markdown",
   "metadata": {},
   "source": [
    "# What are some useful links for coding related to this class?\n",
    "\n",
    "I will give you specific links when we get to examples in the class. Here are some OK general links...\n",
    "\n",
    "<img src=\"https://www.python.org/static/img/python-logo@2x.png\">\n",
    "\n",
    "Python\n",
    "* https://docs.python.org/3/tutorial/\n",
    "* Useful libs\n",
    " * Numpy: https://numpy.org/\n",
    " * Scipy: https://www.scipy.org/\n",
    " * Matplotlib: https://matplotlib.org/\n",
    " * Sympy: https://code.google.com/archive/p/sympy/\n",
    "\n",
    "<img src=\"https://miro.medium.com/max/2400/1*aqNgmfyBIStLrf9k7d9cng.jpeg\">\n",
    "\n",
    "Pytorch\n",
    "* https://pytorch.org/tutorials/\n",
    "* https://pytorch.org/tutorials/beginner/deep_learning_60min_blitz.html"
   ]
  }
 ],
 "metadata": {
  "kernelspec": {
   "display_name": "Python 3",
   "language": "python",
   "name": "python3"
  },
  "language_info": {
   "codemirror_mode": {
    "name": "ipython",
    "version": 3
   },
   "file_extension": ".py",
   "mimetype": "text/x-python",
   "name": "python",
   "nbconvert_exporter": "python",
   "pygments_lexer": "ipython3",
   "version": "3.8.8"
  }
 },
 "nbformat": 4,
 "nbformat_minor": 4
}
