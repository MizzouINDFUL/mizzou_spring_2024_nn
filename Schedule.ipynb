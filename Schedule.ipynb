{
 "cells": [
  {
   "cell_type": "markdown",
   "metadata": {},
   "source": [
    "\n",
    "| Date | Topic | Help | Assignments |\n",
    "| :-: | :-: | :-: | :-: |\n",
    "| <b>Week 1: January 16</b> | (Anderson) <br> Introduction to NN <br> Jupyter <br> Syllabus <br> McCulloch-Pitts <br> Perceptron <br> Geometric Take <br> Digital Logic Take <br> Biological Take <br> Classification <br> Regression | [NN history](NN/NNHistory.ipynb) <br> [McCulloch-Pitts](NN/McCulloch-PittsNeuronInNumPy.ipynb) <br> [Perceptron in NumPy](NN/HandCodedPerceptronInNumPy.ipynb) <br> [Perceptron in PyTorch](NN/PerceptronPyTorch.ipynb) <br> Symbolic Manip [link1](https://www.symbolab.com) [link2](https://www.wolframalpha.com) <br> [Linear Regression in PyTorch](NN/LinearRegressionInPyTorch.ipynb) | - |\n",
    "| <b>Week 1: January 18</b> | (Anderson) <br>  Multi-Layer Perceptron (MLP) Crash Course <br> One Hot Encoding <br> Backpropagation | [Play with MLP](NN/SeeMlpInAction.ipynb) <br> [TensorBoard](NN/TensorBoard.ipynb) <br> [TensorBoardDataLoader](NN/TensorBoard2.ipynb) <br> [BackProp](NN/BackProp.ipynb) <br> [BackProp NumPy](NN/BackPropInNumPy.ipynb) <br> [MLP PyTorch](NN/MlpInPyTorch.ipynb) <br> <a href=\"https://github.com/yunjey/pytorch-tutorial\">Nice PyTorch Example</a> <br> [UFA](NN/UFA.ipynb) | Project 1 Assigned <br> Weekly Assignment |\n",
    "| |\n",
    "| <b>Week 2: January 23</b> | (Anderson) <br>  MLP Day II | - | - |\n",
    "| <b>Week 2: January 25</b> | (Anderson) <br>  Radial Basis Functions/Nets (RBF/RBN) | [RBF](NN/RBF.ipynb) | Weekly Assignment |\n",
    "| |\n",
    "| <b>Week 3: January 30</b> | (Anderson) <br>  Shared Weight NNs (SWNNs) <br> Aggregation Pooling <br> What is Convolution? | Chain Rule and Total Deriv <a href=\"http://sites.science.oregonstate.edu/math/home/programs/undergrad/CalculusQuestStudyGuides/vcalc/chain/chain.html\">1</a>, <a href=\"https://tutorial.math.lamar.edu/classes/calciii/chainrule.aspx\">2</a>,  <a href=\"https://en.wikipedia.org/wiki/Total_derivative\">3</a> <br> <a href=\"https://arxiv.org/pdf/1905.04394.pdf\">Example for Max</a> <br> <a href=\"https://cs231n.github.io/neural-networks-3/\">CNN primer</a> <br> <a href=\"https://en.wikipedia.org/wiki/Convolution\">Intro to Convolution</a> <br> <a href=\"https://en.wikipedia.org/wiki/Discrete-time_Fourier_transform\">DFT</a> <br> <a href=\"http://www.ws.binghamton.edu/fowler/fowler%20personal%20page/EE301_files/EECE%20301%20Note%20Set%2025%20DFT%20-%20DTFT%20-%20CTFT%20Relations.pdf\">Nice example of transforms and connections</a> <br> <a href=\"https://slazebni.cs.illinois.edu/fall22/lec04_frequency.pdf\">Fourier 1D and 2D</a> | - |\n",
    "| <b>Week 3: February 1</b> | (Anderson) <br>  Loss Functions <br> Convolution Neural Nets (CNN) | [Simple PyTorch CNN](NN/SimpleCNN.ipynb) <br> <a href=\"https://github.com/yunjey/pytorch-tutorial/blob/master/tutorials/02-intermediate/convolutional_neural_network/main.py#L35-L56\">Different Clean CNN Example</a> <br> <a href=\"https://ml-cheatsheet.readthedocs.io/en/latest/activation_functions.html\">Activation Functions</a> | Weekly Assignment |\n",
    "| |\n",
    "| <b>Week 4: February 6</b> | (Anderson) <br>  Mini-Batch <br> Evaluation Metrics <br> Calculus on Computational Graphs <br> Autograd | [Optimization Part 1](NN/Opt1.ipynb) <br> [AutoGrad](NN/AutoGrad.ipynb) <br> [MiniBatch](NN/MiniBatch.ipynb) <br> [Confusion Matrix Code](NN/ConfMat.ipynb) <br> <a href=\"https://en.wikipedia.org/wiki/Confusion_matrix\">Confusion Matrices</a> <br> <a href=\"https://towardsdatascience.com/how-are-convolutions-actually-performed-under-the-hood-226523ce7fbf\">Conv Under the Hood</a> | - |\n",
    "| <b>Week 4: February 8</b> | (Anderson) <br>  Advanced Optimization - Part I <br> *Newton, Nestrov, Adagrad* | <a href=\"http://www.seas.ucla.edu/~vandenbe/236C/lectures/qnewton.pdf\">Broyden–Fletcher–Goldfarb–Shanno</a> <br> <a href=\"https://aria42.com/blog/2014/12/understanding-lbfgs\">Another BFGS link</a> <br> <a href=\"https://docs.scipy.org/doc/scipy/reference/generated/scipy.optimize.BFGS.html\">Python BFGS</a> <br> <a href=\"https://arxiv.org/pdf/1802.05374.pdf\">BFGS in deep learning</a> | Weekly Assignment |\n",
    "| |\n",
    "| <b>Week 5: February 12</b> | (Anderson) <br> More Advanced Optimization - Part II <br> *RMSprop and ADAM* | [Optimization Part 2](NN/Opt2.ipynb) | - |\n",
    "| <b>Week 5: February 14</b> | (Anderson) <br> Regularization | [Reg Code](NN/Reg.ipynb) | Weekly Assignment |\n",
    "| |\n",
    "| <b>Week 6: February 20</b> | (Anderson) <br> Autoencoders | [Simple AE](NN/Autoencoder.ipynb) <br> <a href=\"https://arxiv.org/abs/1804.10253\">AE and PCA</a> | Project 1 Due |\n",
    "| <b>Week 6: February 22</b> | (Anderson) <br> Generative AEs | <a href=\"https://avandekleut.github.io/vae/\">VAE PyTorch Example</a> | Weekly Assignment |\n",
    "| |\n",
    "| <b>Week 7: February 27</b> | (Anderson) AE and VAE Day Part II | - |\n",
    "| <b>Week 7: February 29</b> | (Anderson) TBD | Exam 1 |\n",
    "| |\n",
    "| <b>Week 8: March 6</b> | (Anderson) TBD | - |\n",
    "| <b>Week 8: March 8</b> | (Veal) <br>  Siamese Networks and Deep Metric Learning | [Charlie SNN](NN/snn.ipynb) <br> [Charlie TNN](NN/tnn.ipynb) <br> <a href=\"https://www.cs.cmu.edu/~rsalakhu/papers/oneshot1.pdf\">Siamese Net 1</a> <br> <a href=\"https://www.coursera.org/lecture/convolutional-neural-networks/siamese-network-bjhmj\">Siamese Net 2</a> <br> <a href=\"https://openaccess.thecvf.com/content_ICCV_2019/papers/Roy_Siamese_Networks_The_Tale_of_Two_Manifolds_ICCV_2019_paper.pdf\">Siamese Net 3</a> <br> <a href=\"https://gombru.github.io/2019/04/03/ranking_loss\">Contrastive Loss 1</a> <br> <a href=\"https://ml-compiled.readthedocs.io/en/latest/loss_functions.html\">Contrastive Loss 2</a> <br> <a href=\"https://medium.com/@enoshshr/triplet-loss-and-siamese-neural-networks-5d363fdeba9b\">Triplet Loss 1</a> <br> <a href=\"https://en.wikipedia.org/wiki/Triplet_loss\">Triplet Loss 2</a> <br> <a href=\"https://www.jmlr.org/papers/volume11/chechik10a/chechik10a.pdf\">Triplet Loss 3</a> <br> <a href=\"https://arxiv.org/pdf/1503.03832.pdf\">Triplet Loss 4</a> <br> <a href=\"https://www.coursera.org/lecture/convolutional-neural-networks/triplet-loss-HuUtN\">Triplet Loss 5</a> <br> <a href=\"http://people.bu.edu/bkulis/pubs/ftml_metric_learning.pdf\">Metric Learning</a> | - |\n",
    "| |\n",
    "| <b>Week 9: March 13</b> | (Anderson) <br>  Recurrent Neural Networks (RNN), BTT, and TBTT | <a href=\"https://d2l.ai/chapter_recurrent-neural-networks/rnn-scratch.html\">RNN from Scratch in PyTorch</a> <br> <a href=\"https://github.com/yunjey/pytorch-tutorial/blob/master/tutorials/02-intermediate/recurrent_neural_network/main.py#L39-L58\">PyTorch Example</a> <br> <a href=\"https://pytorch.org/docs/stable/generated/torch.nn.RNN.html\">RNN Code</a> <br> <a href=\"https://blog.floydhub.com/a-beginners-guide-on-recurrent-neural-networks-with-pytorch/\">Tutorial</a> <br> <a href=\"http://www.cs.utoronto.ca/~ilya/pubs/ilya_sutskever_phd_thesis.pdf\">BTT and TBTT</a> <br> <a href=\"https://pytorch.org/tutorials/intermediate/char_rnn_classification_tutorial.html?highlight=rnn\">Example 1</a> <br> <a href=\"https://pytorch.org/tutorials/intermediate/char_rnn_generation_tutorial.html?highlight=rnn\">Example 2</a> <br> <a href=\"http://www.wildml.com/2015/09/recurrent-neural-networks-tutorial-part-1-introduction-to-rnns/\">RNN Walk Through</a> | Assign Project II |\n",
    "| <b>Week 9: March 15</b> | (Anderson) <br>  RNNs Part II | - |\n",
    "| |\n",
    "| <b>Week 10: March 20</b> | (Anderson) <br>  Long Short Term Memory (LSTM) | <a href=\"https://www.bioinf.jku.at/publications/older/2604.pdf\">LSTM Paper</a> <br> <a href=\"https://cnl.salk.edu/~schraudo/pubs/GerSchSch02.pdf\">Peepholes</a> <br> <a href=\"https://arxiv.org/pdf/1503.04069.pdf\">LSTM Comparisons</a> <br> <a href=\"https://arxiv.org/abs/1406.1078\">Gated recurrent units</a> <br> <a href=\"https://towardsdatascience.com/illustrated-guide-to-lstms-and-gru-s-a-step-by-step-explanation-44e9eb85bf21\">Cute Animations</a> <br> <a href=\"https://blog.floydhub.com/gru-with-pytorch/\">GRU PyTorch Link</a> <br> <a href=\"https://arxiv.org/pdf/1803.06396.pdf\">BPTT Variants</a> <br> <a href=\"https://arxiv.org/pdf/1810.04020.pdf\">Image Captioning Survey</a> <br> <a href=\"https://arxiv.org/pdf/1610.02583.pdf\">BPTT Walk Through</a> <br> <a href=\"https://towardsdatascience.com/illustrated-guide-to-lstms-and-gru-s-a-step-by-step-explanation-44e9eb85bf21\">Fun Animated Example</a> <br> <a href=\"https://pytorch.org/docs/stable/generated/torch.nn.LSTM.html\">Python LSTM Reference</a> <br> <a href=\"https://statisticalinterference.wordpress.com/2017/06/01/lstms-in-even-more-excruciating-detail/\">Numeric Example</a> | - |\n",
    "| <b>Week 10: March 22</b> | (Anderson) <br> Dilated Convolution <br> UNet <br> fractionally strided convolution | [Fractional Strided Convolution](NN/Deconv.ipynb) |\n",
    "| |\n",
    "| <b>Week 11: March 27</b> | SPRING BREAK | - | - |\n",
    "| <b>Week 11: March 28</b> | SPRING BREAK | - | - |\n",
    "| |\n",
    "| <b>Week 12: April 3</b> | (Anderson) <br> Residual Networks <br> Drop Out | [RNet](NN/RNN.ipynb) <br> [Dropout Code](NN/Drop.ipynb) <br> <a href=\"https://www.cs.toronto.edu/~hinton/absps/JMLRdropout.pdf\">Dropout Paper</a> | - |\n",
    "| <b>Week 12: April 5</b> | (Anderson) <br>  Hebbian learning <br> Self Organizing Maps and Neual Gas | [Simple SOM](NN/SOM.ipynb) <br> <a href=\"https://github.com/itdxer/neupy/blob/master/notebooks/Looking%20inside%20of%20the%20VGG19%20using%20SOFM.ipynb\">SOM on VGG19</a> <br> <a href=\"https://github.com/itdxer/neupy/blob/master/examples/competitive/sofm_digits.py\">SOM on MNIST</a> |\n",
    "| |\n",
    "| <b>Week 13: April 10</b> | (Anderson) <br> Growing Neural Gas | <a href=\"https://github.com/itdxer/neupy/blob/master/notebooks/growing-neural-gas/Making%20Art%20with%20Growing%20Neural%20Gas.ipynb\">GNG Code</a> <br> <a href=\"http://neupy.com/2018/03/26/making_art_with_growing_neural_gas.html\">GNG Animation</a> <br> <a href=\"https://www.ks.uiuc.edu/Publications/Papers/PDF/MART91B/MART91B.pdf\">NG Paper</a> <br> <a href=\"https://www.semanticscholar.org/paper/A-Growing-Neural-Gas-Network-Learns-Topologies-Fritzke/30f080dc62c24ac423854a0c0af8baf02bcaae66\">GNG Paper</a> | - |\n",
    "| <b>Week 13: April 12</b> | (Anderson) <br>  Deep Clustering | - |\n",
    "| |\n",
    "| <b>Week 14: April 17</b> | (Anderson) <br>  Enforcing Constraints in Neural Networks | <a href=\"https://arxiv.org/pdf/1909.00912.pdf\">link</a> | - |\n",
    "| <b>Week 14: April 19</b> | (Marshall) <br>  Deep diffractive neural networks (DDNNs) | <a href=\"https://arxiv.org/ftp/arxiv/papers/1804/1804.08711.pdf\">link</a> <br> <a href=\"https://github.com/MizzouINDFUL/MarshallFourierOptics\">code</a> | - |\n",
    "| |\n",
    "| <b>Week 15: April 24</b> | (Anderson) <br>  Adaptive neural fuzzy inference (ANFIS) | <a href=\"https://github.com/Blake-Ruprecht/Fuzzy-Fusion\">PyTorch Implementation</a> <br> <a href=\"https://www.researchgate.net/publication/3113825_ANFIS_Adaptive-Network-based_Fuzzy_Inference_System\">ANFIS Paper</a> | Project II Due |\n",
    "| <b>Week 15: April 26</b> | (Anderson) <br>  Transformers | - |\n",
    "| |\n",
    "| <b>Week 16: May 1</b> | (Anderson) <br>  Morphological Neural Nets | [PyTorch Code](NN/Morph.ipynb) <br> <a href=\"https://arxiv.org/abs/1912.02259\">Deep MSNN</a> <br> <a href=\"https://arxiv.org/abs/1811.12231\">Shape</a> <br> <a href=\"https://arxiv.org/pdf/1906.01751.pdf\">Deep morph</a> | - |\n",
    "| <b>Week 16: May 3</b> | (Anderson) <br>  Aggregation and fusion networks | <a href=\"https://ieeexplore.ieee.org/document/159064\">Logic Example</a> <br> <a href=\"https://arxiv.org/abs/1905.04394\">Fuzzy integral</a> <br> <a href=\"https://github.com/aminb99/choquet-integral-NN\">Example Code</a> <br> <a href=\"http://derektanderson.com/pdfs/LOSN.pdf\">LOSN</a> <br> <a href=\"https://github.com/charlieveal/LOSN\">Code</a> <br> <a href=\"https://spie.org/Publications/Proceedings/Paper/10.1117/12.544320?SSO=1\">FOWA</a> <br> <a href=\"https://ieeexplore.ieee.org/document/1375789\">FOWA 2</a> <br> <a href=\"https://ieeexplore.ieee.org/document/4069108\">ROCA</a> | Exam 2 |\n",
    "| |\n",
    "| <b>Finals Week</b> | - | - | Final Presententation |"
   ]
  }
 ],
 "metadata": {
  "kernelspec": {
   "display_name": "Python 3",
   "language": "python",
   "name": "python3"
  },
  "language_info": {
   "codemirror_mode": {
    "name": "ipython",
    "version": 3
   },
   "file_extension": ".py",
   "mimetype": "text/x-python",
   "name": "python",
   "nbconvert_exporter": "python",
   "pygments_lexer": "ipython3",
   "version": "3.8.8"
  }
 },
 "nbformat": 4,
 "nbformat_minor": 4
}
